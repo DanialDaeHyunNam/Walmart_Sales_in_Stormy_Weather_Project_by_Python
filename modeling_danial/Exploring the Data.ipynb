{
 "cells": [
  {
   "cell_type": "code",
   "execution_count": 2,
   "metadata": {},
   "outputs": [
    {
     "name": "stdout",
     "output_type": "stream",
     "text": [
      "Train data :  (4617600, 4)\n",
      "Test  data :  (526917, 3)\n",
      "weather  data :  (20517, 20)\n",
      "key  data :  (45, 2)\n",
      "submission  data :  (526917, 2)\n"
     ]
    }
   ],
   "source": [
    "# Import libraries\n",
    "'''\n",
    "import numpy as np\n",
    "import pandas as pd\n",
    "import scipy as sp\n",
    "import matplotlib.pyplot as plt\n",
    "import seaborn as sns\n",
    "'''\n",
    "\n",
    "# Pretty display for notebooks\n",
    "'''\n",
    "%matplotlib inline\n",
    "'''\n",
    "\n",
    "# Allows the use of display() for DataFrames\n",
    "from IPython.display import display \n",
    "\n",
    "# Ignore the warnings\n",
    "import warnings\n",
    "warnings.filterwarnings('ignore')\n",
    "\n",
    "# Load the dataset\n",
    "train = pd.read_csv(\"../asset/train.csv\")\n",
    "test = pd.read_csv(\"../asset/test.csv\")\n",
    "weather = pd.read_csv(\"../asset/weather.csv\")\n",
    "key = pd.read_csv(\"../asset/key.csv\")\n",
    "submission_example = pd.read_csv(\"../asset/sampleSubmission.csv\")\n",
    "\n",
    "# Success - Display the first record\n",
    "print(\"Train data : \", train.shape)\n",
    "print(\"Test  data : \", test.shape)\n",
    "print(\"weather  data : \", weather.shape)\n",
    "print(\"key  data : \", key.shape)\n",
    "print(\"submission  data : \", submission_example.shape)\n",
    "\n",
    "coulmns_should_be_integer_type_of_data = [\"tmax\", \"tmin\", \"tavg\", \"dewpoint\", \"wetbulb\", \"heat\", \"cool\"]\n",
    "coulmns_should_be_float_type_of_data = [\"snowfall\", \"preciptotal\", \"stnpressure\", \"sealevel\", \"depart\",\\\n",
    "                                        \"resultspeed\", \"resultdir\", \"avgspeed\"]\n",
    "\n",
    "import pickle\n",
    "import costum_functions as cf\n",
    "\n",
    "slack_url = pickle.load(open(\"send_url.pickle\", \"rb\"))\n",
    "slack_url\n",
    "\n",
    "# 원본을 유지하기 위해서 카피\n",
    "df_train = train.copy()\n",
    "df_weather = weather.copy()\n",
    "df_key = key.copy()\n",
    "df_train_with_station_nbr = pd.read_csv(\"df_train_with_station_nbr_201806202007.csv\")"
   ]
  },
  {
   "cell_type": "code",
   "execution_count": 2,
   "metadata": {},
   "outputs": [
    {
     "data": {
      "text/html": [
       "<div>\n",
       "<style scoped>\n",
       "    .dataframe tbody tr th:only-of-type {\n",
       "        vertical-align: middle;\n",
       "    }\n",
       "\n",
       "    .dataframe tbody tr th {\n",
       "        vertical-align: top;\n",
       "    }\n",
       "\n",
       "    .dataframe thead th {\n",
       "        text-align: right;\n",
       "    }\n",
       "</style>\n",
       "<table border=\"1\" class=\"dataframe\">\n",
       "  <thead>\n",
       "    <tr style=\"text-align: right;\">\n",
       "      <th></th>\n",
       "      <th>station_nbr</th>\n",
       "      <th>date</th>\n",
       "      <th>tmax</th>\n",
       "      <th>tmin</th>\n",
       "      <th>tavg</th>\n",
       "      <th>depart</th>\n",
       "      <th>dewpoint</th>\n",
       "      <th>wetbulb</th>\n",
       "      <th>heat</th>\n",
       "      <th>cool</th>\n",
       "      <th>sunrise</th>\n",
       "      <th>sunset</th>\n",
       "      <th>codesum</th>\n",
       "      <th>snowfall</th>\n",
       "      <th>preciptotal</th>\n",
       "      <th>stnpressure</th>\n",
       "      <th>sealevel</th>\n",
       "      <th>resultspeed</th>\n",
       "      <th>resultdir</th>\n",
       "      <th>avgspeed</th>\n",
       "    </tr>\n",
       "  </thead>\n",
       "  <tbody>\n",
       "    <tr>\n",
       "      <th>0</th>\n",
       "      <td>1</td>\n",
       "      <td>2012-01-01</td>\n",
       "      <td>52</td>\n",
       "      <td>31</td>\n",
       "      <td>42</td>\n",
       "      <td>M</td>\n",
       "      <td>36</td>\n",
       "      <td>40</td>\n",
       "      <td>23</td>\n",
       "      <td>0</td>\n",
       "      <td>-</td>\n",
       "      <td>-</td>\n",
       "      <td>RA FZFG BR</td>\n",
       "      <td>M</td>\n",
       "      <td>0.05</td>\n",
       "      <td>29.78</td>\n",
       "      <td>29.92</td>\n",
       "      <td>3.6</td>\n",
       "      <td>20</td>\n",
       "      <td>4.6</td>\n",
       "    </tr>\n",
       "    <tr>\n",
       "      <th>1</th>\n",
       "      <td>2</td>\n",
       "      <td>2012-01-01</td>\n",
       "      <td>48</td>\n",
       "      <td>33</td>\n",
       "      <td>41</td>\n",
       "      <td>16</td>\n",
       "      <td>37</td>\n",
       "      <td>39</td>\n",
       "      <td>24</td>\n",
       "      <td>0</td>\n",
       "      <td>0716</td>\n",
       "      <td>1626</td>\n",
       "      <td>RA</td>\n",
       "      <td>0.0</td>\n",
       "      <td>0.07</td>\n",
       "      <td>28.82</td>\n",
       "      <td>29.91</td>\n",
       "      <td>9.1</td>\n",
       "      <td>23</td>\n",
       "      <td>11.3</td>\n",
       "    </tr>\n",
       "    <tr>\n",
       "      <th>2</th>\n",
       "      <td>3</td>\n",
       "      <td>2012-01-01</td>\n",
       "      <td>55</td>\n",
       "      <td>34</td>\n",
       "      <td>45</td>\n",
       "      <td>9</td>\n",
       "      <td>24</td>\n",
       "      <td>36</td>\n",
       "      <td>20</td>\n",
       "      <td>0</td>\n",
       "      <td>0735</td>\n",
       "      <td>1720</td>\n",
       "      <td></td>\n",
       "      <td>0.0</td>\n",
       "      <td>0.00</td>\n",
       "      <td>29.77</td>\n",
       "      <td>30.47</td>\n",
       "      <td>9.9</td>\n",
       "      <td>31</td>\n",
       "      <td>10.0</td>\n",
       "    </tr>\n",
       "    <tr>\n",
       "      <th>3</th>\n",
       "      <td>4</td>\n",
       "      <td>2012-01-01</td>\n",
       "      <td>63</td>\n",
       "      <td>47</td>\n",
       "      <td>55</td>\n",
       "      <td>4</td>\n",
       "      <td>28</td>\n",
       "      <td>43</td>\n",
       "      <td>10</td>\n",
       "      <td>0</td>\n",
       "      <td>0728</td>\n",
       "      <td>1742</td>\n",
       "      <td></td>\n",
       "      <td>0.0</td>\n",
       "      <td>0.00</td>\n",
       "      <td>29.79</td>\n",
       "      <td>30.48</td>\n",
       "      <td>8.0</td>\n",
       "      <td>35</td>\n",
       "      <td>8.2</td>\n",
       "    </tr>\n",
       "    <tr>\n",
       "      <th>4</th>\n",
       "      <td>6</td>\n",
       "      <td>2012-01-01</td>\n",
       "      <td>63</td>\n",
       "      <td>34</td>\n",
       "      <td>49</td>\n",
       "      <td>0</td>\n",
       "      <td>31</td>\n",
       "      <td>43</td>\n",
       "      <td>16</td>\n",
       "      <td>0</td>\n",
       "      <td>0727</td>\n",
       "      <td>1742</td>\n",
       "      <td></td>\n",
       "      <td>0.0</td>\n",
       "      <td>0.00</td>\n",
       "      <td>29.95</td>\n",
       "      <td>30.47</td>\n",
       "      <td>14.0</td>\n",
       "      <td>36</td>\n",
       "      <td>13.8</td>\n",
       "    </tr>\n",
       "  </tbody>\n",
       "</table>\n",
       "</div>"
      ],
      "text/plain": [
       "   station_nbr        date tmax tmin tavg depart dewpoint wetbulb heat cool  \\\n",
       "0            1  2012-01-01   52   31   42      M       36      40   23    0   \n",
       "1            2  2012-01-01   48   33   41     16       37      39   24    0   \n",
       "2            3  2012-01-01   55   34   45      9       24      36   20    0   \n",
       "3            4  2012-01-01   63   47   55      4       28      43   10    0   \n",
       "4            6  2012-01-01   63   34   49      0       31      43   16    0   \n",
       "\n",
       "  sunrise sunset     codesum snowfall preciptotal stnpressure sealevel  \\\n",
       "0       -      -  RA FZFG BR        M        0.05       29.78    29.92   \n",
       "1    0716   1626          RA      0.0        0.07       28.82    29.91   \n",
       "2    0735   1720                  0.0        0.00       29.77    30.47   \n",
       "3    0728   1742                  0.0        0.00       29.79    30.48   \n",
       "4    0727   1742                  0.0        0.00       29.95    30.47   \n",
       "\n",
       "  resultspeed resultdir avgspeed  \n",
       "0         3.6        20      4.6  \n",
       "1         9.1        23     11.3  \n",
       "2         9.9        31     10.0  \n",
       "3         8.0        35      8.2  \n",
       "4        14.0        36     13.8  "
      ]
     },
     "execution_count": 2,
     "metadata": {},
     "output_type": "execute_result"
    }
   ],
   "source": [
    "df_weather.head()"
   ]
  },
  {
   "cell_type": "code",
   "execution_count": 5,
   "metadata": {},
   "outputs": [],
   "source": [
    "df_train_with_station_nbr = df_train_with_station_nbr.merge(df_weather, on=[\"date\", \"station_nbr\"], how=\"inner\")\n",
    "cf.sendSlackDm(slack_url, \"Done\")"
   ]
  },
  {
   "cell_type": "code",
   "execution_count": 7,
   "metadata": {},
   "outputs": [],
   "source": [
    "df_train_with_station_nbr.sort_values(by = ['store_nbr']).reset_index(drop=True)\n",
    "cf.sendSlackDm(slack_url, \"Done\")"
   ]
  },
  {
   "cell_type": "code",
   "execution_count": 22,
   "metadata": {},
   "outputs": [
    {
     "data": {
      "text/html": [
       "<div>\n",
       "<style scoped>\n",
       "    .dataframe tbody tr th:only-of-type {\n",
       "        vertical-align: middle;\n",
       "    }\n",
       "\n",
       "    .dataframe tbody tr th {\n",
       "        vertical-align: top;\n",
       "    }\n",
       "\n",
       "    .dataframe thead th {\n",
       "        text-align: right;\n",
       "    }\n",
       "</style>\n",
       "<table border=\"1\" class=\"dataframe\">\n",
       "  <thead>\n",
       "    <tr style=\"text-align: right;\">\n",
       "      <th></th>\n",
       "      <th>date</th>\n",
       "      <th>store_nbr</th>\n",
       "      <th>item_nbr</th>\n",
       "      <th>units</th>\n",
       "      <th>station_nbr</th>\n",
       "      <th>tmax</th>\n",
       "      <th>tmin</th>\n",
       "      <th>tavg</th>\n",
       "      <th>depart</th>\n",
       "      <th>dewpoint</th>\n",
       "      <th>...</th>\n",
       "      <th>sunrise</th>\n",
       "      <th>sunset</th>\n",
       "      <th>codesum</th>\n",
       "      <th>snowfall</th>\n",
       "      <th>preciptotal</th>\n",
       "      <th>stnpressure</th>\n",
       "      <th>sealevel</th>\n",
       "      <th>resultspeed</th>\n",
       "      <th>resultdir</th>\n",
       "      <th>avgspeed</th>\n",
       "    </tr>\n",
       "  </thead>\n",
       "  <tbody>\n",
       "    <tr>\n",
       "      <th>4617595</th>\n",
       "      <td>2014-10-31</td>\n",
       "      <td>39</td>\n",
       "      <td>107</td>\n",
       "      <td>0</td>\n",
       "      <td>8</td>\n",
       "      <td>78</td>\n",
       "      <td>55</td>\n",
       "      <td>67</td>\n",
       "      <td>M</td>\n",
       "      <td>M</td>\n",
       "      <td>...</td>\n",
       "      <td>-</td>\n",
       "      <td>-</td>\n",
       "      <td>RA</td>\n",
       "      <td>M</td>\n",
       "      <td>T</td>\n",
       "      <td>29.82</td>\n",
       "      <td>M</td>\n",
       "      <td>M</td>\n",
       "      <td>M</td>\n",
       "      <td>5.1</td>\n",
       "    </tr>\n",
       "    <tr>\n",
       "      <th>4617596</th>\n",
       "      <td>2014-10-31</td>\n",
       "      <td>39</td>\n",
       "      <td>108</td>\n",
       "      <td>0</td>\n",
       "      <td>8</td>\n",
       "      <td>78</td>\n",
       "      <td>55</td>\n",
       "      <td>67</td>\n",
       "      <td>M</td>\n",
       "      <td>M</td>\n",
       "      <td>...</td>\n",
       "      <td>-</td>\n",
       "      <td>-</td>\n",
       "      <td>RA</td>\n",
       "      <td>M</td>\n",
       "      <td>T</td>\n",
       "      <td>29.82</td>\n",
       "      <td>M</td>\n",
       "      <td>M</td>\n",
       "      <td>M</td>\n",
       "      <td>5.1</td>\n",
       "    </tr>\n",
       "    <tr>\n",
       "      <th>4617597</th>\n",
       "      <td>2014-10-31</td>\n",
       "      <td>39</td>\n",
       "      <td>109</td>\n",
       "      <td>0</td>\n",
       "      <td>8</td>\n",
       "      <td>78</td>\n",
       "      <td>55</td>\n",
       "      <td>67</td>\n",
       "      <td>M</td>\n",
       "      <td>M</td>\n",
       "      <td>...</td>\n",
       "      <td>-</td>\n",
       "      <td>-</td>\n",
       "      <td>RA</td>\n",
       "      <td>M</td>\n",
       "      <td>T</td>\n",
       "      <td>29.82</td>\n",
       "      <td>M</td>\n",
       "      <td>M</td>\n",
       "      <td>M</td>\n",
       "      <td>5.1</td>\n",
       "    </tr>\n",
       "    <tr>\n",
       "      <th>4617598</th>\n",
       "      <td>2014-10-31</td>\n",
       "      <td>39</td>\n",
       "      <td>110</td>\n",
       "      <td>0</td>\n",
       "      <td>8</td>\n",
       "      <td>78</td>\n",
       "      <td>55</td>\n",
       "      <td>67</td>\n",
       "      <td>M</td>\n",
       "      <td>M</td>\n",
       "      <td>...</td>\n",
       "      <td>-</td>\n",
       "      <td>-</td>\n",
       "      <td>RA</td>\n",
       "      <td>M</td>\n",
       "      <td>T</td>\n",
       "      <td>29.82</td>\n",
       "      <td>M</td>\n",
       "      <td>M</td>\n",
       "      <td>M</td>\n",
       "      <td>5.1</td>\n",
       "    </tr>\n",
       "    <tr>\n",
       "      <th>4617599</th>\n",
       "      <td>2014-10-31</td>\n",
       "      <td>39</td>\n",
       "      <td>111</td>\n",
       "      <td>2</td>\n",
       "      <td>8</td>\n",
       "      <td>78</td>\n",
       "      <td>55</td>\n",
       "      <td>67</td>\n",
       "      <td>M</td>\n",
       "      <td>M</td>\n",
       "      <td>...</td>\n",
       "      <td>-</td>\n",
       "      <td>-</td>\n",
       "      <td>RA</td>\n",
       "      <td>M</td>\n",
       "      <td>T</td>\n",
       "      <td>29.82</td>\n",
       "      <td>M</td>\n",
       "      <td>M</td>\n",
       "      <td>M</td>\n",
       "      <td>5.1</td>\n",
       "    </tr>\n",
       "  </tbody>\n",
       "</table>\n",
       "<p>5 rows × 23 columns</p>\n",
       "</div>"
      ],
      "text/plain": [
       "               date  store_nbr  item_nbr  units  station_nbr tmax tmin tavg  \\\n",
       "4617595  2014-10-31         39       107      0            8   78   55   67   \n",
       "4617596  2014-10-31         39       108      0            8   78   55   67   \n",
       "4617597  2014-10-31         39       109      0            8   78   55   67   \n",
       "4617598  2014-10-31         39       110      0            8   78   55   67   \n",
       "4617599  2014-10-31         39       111      2            8   78   55   67   \n",
       "\n",
       "        depart dewpoint   ...    sunrise sunset codesum snowfall preciptotal  \\\n",
       "4617595      M        M   ...          -      -      RA        M           T   \n",
       "4617596      M        M   ...          -      -      RA        M           T   \n",
       "4617597      M        M   ...          -      -      RA        M           T   \n",
       "4617598      M        M   ...          -      -      RA        M           T   \n",
       "4617599      M        M   ...          -      -      RA        M           T   \n",
       "\n",
       "        stnpressure sealevel resultspeed resultdir avgspeed  \n",
       "4617595       29.82        M           M         M      5.1  \n",
       "4617596       29.82        M           M         M      5.1  \n",
       "4617597       29.82        M           M         M      5.1  \n",
       "4617598       29.82        M           M         M      5.1  \n",
       "4617599       29.82        M           M         M      5.1  \n",
       "\n",
       "[5 rows x 23 columns]"
      ]
     },
     "execution_count": 22,
     "metadata": {},
     "output_type": "execute_result"
    }
   ],
   "source": [
    "df_train_with_station_nbr"
   ]
  },
  {
   "cell_type": "code",
   "execution_count": 12,
   "metadata": {},
   "outputs": [],
   "source": [
    "a = df_train_with_station_nbr.groupby(by=\"store_nbr\").size()"
   ]
  },
  {
   "cell_type": "code",
   "execution_count": null,
   "metadata": {},
   "outputs": [],
   "source": [
    "df_train.tail()"
   ]
  },
  {
   "cell_type": "code",
   "execution_count": null,
   "metadata": {},
   "outputs": [],
   "source": [
    "len(df_train_with_station_nbr)"
   ]
  },
  {
   "cell_type": "code",
   "execution_count": null,
   "metadata": {},
   "outputs": [],
   "source": [
    "df_key_reset = df_key.set_index(\"store_nbr\")"
   ]
  },
  {
   "cell_type": "code",
   "execution_count": null,
   "metadata": {},
   "outputs": [],
   "source": [
    "store_nbr_li = [d[0] for d in df_key_reset.get_values()]"
   ]
  },
  {
   "cell_type": "code",
   "execution_count": null,
   "metadata": {},
   "outputs": [],
   "source": [
    "df_train.loc[0][\"store_nbr\"]"
   ]
  },
  {
   "cell_type": "code",
   "execution_count": null,
   "metadata": {},
   "outputs": [],
   "source": [
    "# def addStationNbrColumnToDataFrame(df):\n",
    "#     li = []\n",
    "#     for i in range(len(df)):\n",
    "#         index = df.loc[i][\"store_nbr\"]\n",
    "#         li.append(store_nbr_li[index - 1])\n",
    "#     df_train[\"station_nbr\"] = li"
   ]
  },
  {
   "cell_type": "code",
   "execution_count": null,
   "metadata": {},
   "outputs": [],
   "source": [
    "cf.saveDataFrameToCsv(df_train, \"df_train_with_station_nbr\")"
   ]
  },
  {
   "cell_type": "markdown",
   "metadata": {},
   "source": [
    "## Weather data\n",
    "\n",
    "- Column : 전문용어\n",
    "    - station_nbr : 기성청 번호\n",
    "    - date : 날짜\n",
    "- Temp : 화씨(Fahrenheit)\n",
    "    - tmax : 최고 온도\n",
    "    - tmin : 최저 온도\n",
    "    - tavg : 평균 온도\n",
    "    - depart : Departure from normal\n",
    "    - dewpoint : 평균 이슬점\n",
    "    - wetbulb : 평균 습구?\n",
    "- Degree Days : Base 65 F\n",
    "    - Heat : Heating (Season begins with July)\n",
    "    - Cool : Cooling (Season begins with January)\n",
    "    - sunrise : Sunrise (Calculated, not observed)\n",
    "    - sunset : Sunset (Calculated, not observed)\n",
    "- Significant Weather Types : 날씨 현상\n",
    "    - codesum : 날씨현상, NO SIGN은 보통인 날을 의미한다.\n",
    "- Snow/Ice : 인치\n",
    "    - snowfall : 1/10인치, M = Missing Data, T = Trace\n",
    "    - preciptotal : 비나, 녹은 눈 인치, M = Missing Data, T = Trace\n",
    "- Pressure : 인치당 핵토그램(HG)?\n",
    "    - stnpressure : AVERAGE STATION PRESSURE\n",
    "    - sealevel : AVERAGE SEA LEVEL PRESSURE\n",
    "- Wind : SPEED IN MILES PER HOUR, DIRECTION TO TENS OF DEGREES\n",
    "    - resultspeed : Resultant Wind Speed\n",
    "    - resultdir : Resultant Wind Direction\n",
    "    - avgspeed : Average Speed\n",
    "    \n",
    "##### _**℃＝(℉－32)/1.8**_"
   ]
  },
  {
   "cell_type": "code",
   "execution_count": null,
   "metadata": {},
   "outputs": [],
   "source": [
    "df = df_train.copy()\n",
    "df['log1p'] = np.log(df['units'] + 1)\n",
    "\n",
    "g = df.groupby([\"store_nbr\", \"item_nbr\"])['log1p'].mean()"
   ]
  },
  {
   "cell_type": "code",
   "execution_count": null,
   "metadata": {},
   "outputs": [],
   "source": [
    "# date 포맷을 2014-01-01 object타입에서 20140101 타입으로 전환\n",
    "df_weather[\"date\"] = df_weather[\"date\"].apply(cf.dateToNumeric)\n",
    "df_train[\"date\"] = df_train[\"date\"].apply(cf.dateToNumeric)"
   ]
  },
  {
   "cell_type": "markdown",
   "metadata": {},
   "source": [
    "# Weather 데이터 컬럼별 Missing Data 수량"
   ]
  },
  {
   "cell_type": "code",
   "execution_count": null,
   "metadata": {},
   "outputs": [],
   "source": [
    "cf.isThereNoneData(df_weather)"
   ]
  },
  {
   "cell_type": "code",
   "execution_count": 3,
   "metadata": {},
   "outputs": [
    {
     "data": {
      "text/plain": [
       "station_nbr\n",
       "1     1035\n",
       "2     1035\n",
       "3     1035\n",
       "4     1035\n",
       "5      852\n",
       "6     1035\n",
       "7     1035\n",
       "8     1035\n",
       "9     1035\n",
       "10    1035\n",
       "11    1035\n",
       "12    1035\n",
       "13    1035\n",
       "14    1035\n",
       "15    1035\n",
       "16    1035\n",
       "17    1035\n",
       "18    1035\n",
       "19    1035\n",
       "20    1035\n",
       "dtype: int64"
      ]
     },
     "execution_count": 3,
     "metadata": {},
     "output_type": "execute_result"
    }
   ],
   "source": [
    "df_weather.groupby(by=\"station_nbr\").size()"
   ]
  },
  {
   "cell_type": "code",
   "execution_count": 35,
   "metadata": {},
   "outputs": [
    {
     "data": {
      "text/plain": [
       "store_nbr\n",
       "1     103119\n",
       "2      97125\n",
       "3      99456\n",
       "4     106560\n",
       "5      98568\n",
       "6      97125\n",
       "7     102786\n",
       "8     102120\n",
       "9     105117\n",
       "10     98568\n",
       "11     99678\n",
       "12    101121\n",
       "13    102786\n",
       "14    105672\n",
       "15    112221\n",
       "16     95127\n",
       "17    104229\n",
       "18    105117\n",
       "19     97458\n",
       "20     99456\n",
       "21    101454\n",
       "22     99678\n",
       "23    105117\n",
       "24    106560\n",
       "25    112221\n",
       "26    105117\n",
       "27     99678\n",
       "28     99456\n",
       "29    101454\n",
       "30     96348\n",
       "31    105117\n",
       "32    112221\n",
       "33    101454\n",
       "34    105117\n",
       "35     94461\n",
       "36    107004\n",
       "37    112221\n",
       "38     97125\n",
       "39    109113\n",
       "40    112221\n",
       "41     98568\n",
       "42     97125\n",
       "43    101121\n",
       "44     98568\n",
       "45    105672\n",
       "dtype: int64"
      ]
     },
     "execution_count": 35,
     "metadata": {},
     "output_type": "execute_result"
    }
   ],
   "source": [
    "df_train.groupby(by=\"store_nbr\").size()"
   ]
  },
  {
   "cell_type": "code",
   "execution_count": null,
   "metadata": {},
   "outputs": [],
   "source": []
  },
  {
   "cell_type": "code",
   "execution_count": null,
   "metadata": {},
   "outputs": [],
   "source": [
    "numerical_features, categorical_features = cf.divideIntoNumericAndCategoricalVariables(df_weather)"
   ]
  },
  {
   "cell_type": "code",
   "execution_count": null,
   "metadata": {},
   "outputs": [],
   "source": [
    "df_weather.tail()"
   ]
  },
  {
   "cell_type": "code",
   "execution_count": null,
   "metadata": {},
   "outputs": [],
   "source": [
    "check_depart = df_weather[df_weather[\"depart\"] != \"M\"]"
   ]
  },
  {
   "cell_type": "code",
   "execution_count": null,
   "metadata": {},
   "outputs": [],
   "source": [
    "check_depart[\"depart\"].astype(int).describe()"
   ]
  },
  {
   "cell_type": "markdown",
   "metadata": {},
   "source": [
    "- 총 2012-01-01 부터 2014-10-31까지 1035일간의 자료이지만 5번 기상청의 경우에는 852일간의 기록밖에 없다."
   ]
  },
  {
   "cell_type": "code",
   "execution_count": null,
   "metadata": {},
   "outputs": [],
   "source": [
    "df_key = df_key.sort_values(by = ['station_nbr']).reset_index(drop=True)\n",
    "df_key = df_key.reindex_axis([\"station_nbr\", \"store_nbr\"], axis = 1)"
   ]
  },
  {
   "cell_type": "code",
   "execution_count": null,
   "metadata": {},
   "outputs": [],
   "source": [
    "df_classifyStoresByStation = cf.classifyStoresByStation(df_key)"
   ]
  },
  {
   "cell_type": "code",
   "execution_count": null,
   "metadata": {},
   "outputs": [],
   "source": [
    "df_classifyStoresByStation"
   ]
  },
  {
   "cell_type": "code",
   "execution_count": null,
   "metadata": {},
   "outputs": [],
   "source": [
    "# store_nbr 31, 26, 18, 9, 34, 23 by station_nbr == 17 \n",
    "df_test = cf.df_train_specified_store(df_train, df_classifyStoresByStation, 17)"
   ]
  },
  {
   "cell_type": "code",
   "execution_count": null,
   "metadata": {},
   "outputs": [],
   "source": [
    "df_test.tail()"
   ]
  },
  {
   "cell_type": "code",
   "execution_count": null,
   "metadata": {},
   "outputs": [],
   "source": [
    "def drawDateAndItemUnitsImg(df, item_nbr):\n",
    "    df = df.set_index(\"date\")\n",
    "    unique_store_nbr = df[\"store_nbr\"].unique()\n",
    "    plt.figure(figsize=(12, 5))\n",
    "    plt.subplots_adjust(top = 5)\n",
    "    for i, store_nbr in enumerate(list(unique_store_nbr)):\n",
    "        if(i == 1):\n",
    "            item = df[df[\"item_nbr\"] == item_nbr]\n",
    "            item = item[item[\"store_nbr\"] == store_nbr]\n",
    "#             print(item[\"units\"].describe())\n",
    "            plt.subplot(len(list(unique_store_nbr)), 1, i + 1)\n",
    "#             sns.barplot(item.index, item[\"units\"])\n",
    "#             plt.tick_params(\n",
    "#                 axis='x',          # changes apply to the x-axis\n",
    "#                 which='both',      # both major and minor ticks are affected\n",
    "#                 bottom=False,      # ticks along the bottom edge are off\n",
    "#                 top=False,         # ticks along the top edge are off\n",
    "#                 labelbottom=False) \n",
    "#             plt.xticks()\n",
    "            plt.plot(item.index, item[\"units\"])\n",
    "            plt.ylabel(\"store_nbr {}\".format(store_nbr))\n",
    "    plt.show()"
   ]
  },
  {
   "cell_type": "code",
   "execution_count": null,
   "metadata": {},
   "outputs": [],
   "source": [
    "drawDateAndItemUnitsImg(df_test, 5)"
   ]
  },
  {
   "cell_type": "code",
   "execution_count": null,
   "metadata": {},
   "outputs": [],
   "source": [
    "drawDateAndItemUnitsImg(df_test, 5)"
   ]
  },
  {
   "cell_type": "code",
   "execution_count": null,
   "metadata": {},
   "outputs": [],
   "source": [
    "df.to_csv"
   ]
  }
 ],
 "metadata": {
  "kernelspec": {
   "display_name": "Python 3",
   "language": "python",
   "name": "python3"
  },
  "language_info": {
   "codemirror_mode": {
    "name": "ipython",
    "version": 3
   },
   "file_extension": ".py",
   "mimetype": "text/x-python",
   "name": "python",
   "nbconvert_exporter": "python",
   "pygments_lexer": "ipython3",
   "version": "3.6.5"
  }
 },
 "nbformat": 4,
 "nbformat_minor": 2
}
