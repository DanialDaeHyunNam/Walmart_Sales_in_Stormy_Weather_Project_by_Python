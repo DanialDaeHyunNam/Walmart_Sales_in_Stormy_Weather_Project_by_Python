{
 "cells": [
  {
   "cell_type": "code",
   "execution_count": 6,
   "metadata": {},
   "outputs": [],
   "source": [
    "def create_vaild_item_store_combinations(_df):\n",
    "    df = _df.copy()\n",
    "    df['log1p'] = np.log(df['units'] + 1)\n",
    "    \n",
    "    g = df.groupby([\"store_nbr\", \"item_nbr\"])['log1p'].mean()\n",
    "    g = g[g > 0.0]\n",
    "    \n",
    "    store_nbrs = g.index.get_level_values(0)\n",
    "    item_nbrs = g.index.get_level_values(1)\n",
    "    \n",
    "    store_item_nbrs = sorted(zip(store_nbrs, item_nbrs), key = lambda t: t[1] * 10000 + t[0] )\n",
    "    return store_item_nbrs\n",
    "df_train = pd.read_csv(\"../asset/train.csv\")\n",
    "tuple_list = create_vaild_item_store_combinations(df_train)"
   ]
  },
  {
   "cell_type": "code",
   "execution_count": 32,
   "metadata": {},
   "outputs": [],
   "source": [
    "df_train = pd.read_csv(\"../asset/train.csv\")\n",
    "df = df_train.copy()\n",
    "df['log1p'] = np.log(df['units'] + 1)\n",
    "\n",
    "# g = df.groupby([\"store_nbr\", \"item_nbr\"])['log1p'].mean()\n",
    "# g = g[g > 0.0]\n",
    "\n",
    "# store_nbrs = g.index.get_level_values(0)\n",
    "# item_nbrs = g.index.get_level_values(1)\n",
    "\n",
    "# store_item_nbrs = sorted(zip(store_nbrs, item_nbrs), key = lambda t: t[1] * 10000 + t[0] )"
   ]
  },
  {
   "cell_type": "code",
   "execution_count": 34,
   "metadata": {},
   "outputs": [],
   "source": [
    "g = df.groupby([\"store_nbr\", \"item_nbr\"])['log1p'].mean()"
   ]
  },
  {
   "cell_type": "code",
   "execution_count": 37,
   "metadata": {},
   "outputs": [],
   "source": [
    "g = g[g > 0.0]"
   ]
  },
  {
   "cell_type": "code",
   "execution_count": 33,
   "metadata": {},
   "outputs": [
    {
     "data": {
      "text/html": [
       "<div>\n",
       "<style scoped>\n",
       "    .dataframe tbody tr th:only-of-type {\n",
       "        vertical-align: middle;\n",
       "    }\n",
       "\n",
       "    .dataframe tbody tr th {\n",
       "        vertical-align: top;\n",
       "    }\n",
       "\n",
       "    .dataframe thead th {\n",
       "        text-align: right;\n",
       "    }\n",
       "</style>\n",
       "<table border=\"1\" class=\"dataframe\">\n",
       "  <thead>\n",
       "    <tr style=\"text-align: right;\">\n",
       "      <th></th>\n",
       "      <th>date</th>\n",
       "      <th>store_nbr</th>\n",
       "      <th>item_nbr</th>\n",
       "      <th>units</th>\n",
       "      <th>log1p</th>\n",
       "    </tr>\n",
       "  </thead>\n",
       "  <tbody>\n",
       "    <tr>\n",
       "      <th>4617595</th>\n",
       "      <td>2014-10-31</td>\n",
       "      <td>45</td>\n",
       "      <td>107</td>\n",
       "      <td>0</td>\n",
       "      <td>0.0</td>\n",
       "    </tr>\n",
       "    <tr>\n",
       "      <th>4617596</th>\n",
       "      <td>2014-10-31</td>\n",
       "      <td>45</td>\n",
       "      <td>108</td>\n",
       "      <td>0</td>\n",
       "      <td>0.0</td>\n",
       "    </tr>\n",
       "    <tr>\n",
       "      <th>4617597</th>\n",
       "      <td>2014-10-31</td>\n",
       "      <td>45</td>\n",
       "      <td>109</td>\n",
       "      <td>0</td>\n",
       "      <td>0.0</td>\n",
       "    </tr>\n",
       "    <tr>\n",
       "      <th>4617598</th>\n",
       "      <td>2014-10-31</td>\n",
       "      <td>45</td>\n",
       "      <td>110</td>\n",
       "      <td>0</td>\n",
       "      <td>0.0</td>\n",
       "    </tr>\n",
       "    <tr>\n",
       "      <th>4617599</th>\n",
       "      <td>2014-10-31</td>\n",
       "      <td>45</td>\n",
       "      <td>111</td>\n",
       "      <td>0</td>\n",
       "      <td>0.0</td>\n",
       "    </tr>\n",
       "  </tbody>\n",
       "</table>\n",
       "</div>"
      ],
      "text/plain": [
       "               date  store_nbr  item_nbr  units  log1p\n",
       "4617595  2014-10-31         45       107      0    0.0\n",
       "4617596  2014-10-31         45       108      0    0.0\n",
       "4617597  2014-10-31         45       109      0    0.0\n",
       "4617598  2014-10-31         45       110      0    0.0\n",
       "4617599  2014-10-31         45       111      0    0.0"
      ]
     },
     "execution_count": 33,
     "metadata": {},
     "output_type": "execute_result"
    }
   ],
   "source": [
    "df.tail()"
   ]
  },
  {
   "cell_type": "markdown",
   "metadata": {},
   "source": [
    "# 0번 컬럼은 스토어 넘버, 1번은 아이템 넘버(매출이 있는 것만 들어감)"
   ]
  },
  {
   "cell_type": "code",
   "execution_count": 11,
   "metadata": {},
   "outputs": [],
   "source": [
    "store_item_nbrs = pd.DataFrame(tuple_list, columns=[\"store_nbr\", \"item_nbr\"])"
   ]
  },
  {
   "cell_type": "code",
   "execution_count": 29,
   "metadata": {},
   "outputs": [
    {
     "data": {
      "text/html": [
       "<div>\n",
       "<style scoped>\n",
       "    .dataframe tbody tr th:only-of-type {\n",
       "        vertical-align: middle;\n",
       "    }\n",
       "\n",
       "    .dataframe tbody tr th {\n",
       "        vertical-align: top;\n",
       "    }\n",
       "\n",
       "    .dataframe thead th {\n",
       "        text-align: right;\n",
       "    }\n",
       "</style>\n",
       "<table border=\"1\" class=\"dataframe\">\n",
       "  <thead>\n",
       "    <tr style=\"text-align: right;\">\n",
       "      <th></th>\n",
       "      <th>store_nbr</th>\n",
       "      <th>item_nbr</th>\n",
       "    </tr>\n",
       "  </thead>\n",
       "  <tbody>\n",
       "    <tr>\n",
       "      <th>5</th>\n",
       "      <td>45</td>\n",
       "      <td>4</td>\n",
       "    </tr>\n",
       "    <tr>\n",
       "      <th>43</th>\n",
       "      <td>45</td>\n",
       "      <td>9</td>\n",
       "    </tr>\n",
       "    <tr>\n",
       "      <th>68</th>\n",
       "      <td>45</td>\n",
       "      <td>22</td>\n",
       "    </tr>\n",
       "    <tr>\n",
       "      <th>74</th>\n",
       "      <td>45</td>\n",
       "      <td>26</td>\n",
       "    </tr>\n",
       "    <tr>\n",
       "      <th>82</th>\n",
       "      <td>45</td>\n",
       "      <td>34</td>\n",
       "    </tr>\n",
       "    <tr>\n",
       "      <th>131</th>\n",
       "      <td>45</td>\n",
       "      <td>50</td>\n",
       "    </tr>\n",
       "  </tbody>\n",
       "</table>\n",
       "</div>"
      ],
      "text/plain": [
       "     store_nbr  item_nbr\n",
       "5           45         4\n",
       "43          45         9\n",
       "68          45        22\n",
       "74          45        26\n",
       "82          45        34\n",
       "131         45        50"
      ]
     },
     "execution_count": 29,
     "metadata": {},
     "output_type": "execute_result"
    }
   ],
   "source": [
    "store_item_nbrs[store_item_nbrs[\"store_nbr\"] == 45]"
   ]
  },
  {
   "cell_type": "code",
   "execution_count": 13,
   "metadata": {},
   "outputs": [],
   "source": [
    "import pickle\n",
    "import os.path\n",
    "\n",
    "def get_holidays(fpath):\n",
    "    # holidays are from http://www.timeanddate.com/holidays/us/ , holidays and some observances\n",
    "    \n",
    "    f = open(fpath)\n",
    "    lines = f.readlines()\n",
    "    lines = [line.split(\" \")[:3] for line in lines]\n",
    "    lines = [\"{} {} {}\".format(line[0], line[1], line[2]) for line in lines]\n",
    "    lines = pd.to_datetime(lines)\n",
    "    return pd.DataFrame({\"date2\":lines})\n",
    "\n",
    "def get_holiday_names(fpath):\n",
    "    # holiday_names are holidays + around Black Fridays\n",
    "    \n",
    "    f = open(fpath)\n",
    "    lines = f.readlines()\n",
    "    lines = [line.strip().split(\" \")[:4] for line in lines]\n",
    "    lines_dt = [\"{} {} {}\".format(line[0], line[1], line[2]) for line in lines]\n",
    "    lines_dt = pd.to_datetime(lines_dt)\n",
    "    lines_hol = [line[3] for line in lines]\n",
    "    return pd.DataFrame({\"date2\":lines_dt, \"holiday_name\":lines_hol})\n",
    "\n",
    "def to_float(series, replace_value_for_M, replace_value_for_T):\n",
    "    series = series.map(lambda s : s.strip())\n",
    "    series[series == 'M'] = replace_value_for_M\n",
    "    series[series == 'T'] = replace_value_for_T\n",
    "    return series.astype(float)\n",
    "\n",
    "def preprocess(_df, is_train):\n",
    "    \n",
    "    df = _df.copy()\n",
    "\n",
    "    # log1p\n",
    "    if is_train: \n",
    "        df['log1p'] = np.log(df['units'] + 1)\n",
    "\n",
    "    # date\n",
    "    df['date2'] = pd.to_datetime(df['date'])\n",
    "\n",
    "    # weather features\n",
    "    wtr['date2'] = pd.to_datetime(wtr.date)\n",
    "    wtr[\"preciptotal2\"] = to_float(wtr[\"preciptotal\"], 0.00, 0.005)\n",
    "    wtr[\"preciptotal_flag\"] = np.where(wtr[\"preciptotal2\"] > 0.2, 1.0, 0.0)\n",
    "\n",
    "    wtr[\"depart2\"] = to_float(wtr.depart, np.nan, 0.00)\n",
    "    wtr[\"depart_flag\"] = 0.0\n",
    "    wtr[\"depart_flag\"] = np.where(wtr[\"depart2\"] < -8.0, -1, wtr[\"depart_flag\"])\n",
    "    wtr[\"depart_flag\"] = np.where(wtr[\"depart2\"] > 8.0 ,  1, wtr[\"depart_flag\"])\n",
    "    df = pd.merge(df, key, on='store_nbr')\n",
    "    df = pd.merge(df, wtr[[\"date2\", \"station_nbr\", \"preciptotal_flag\", \"depart_flag\"]], \n",
    "                      on=[\"date2\", \"station_nbr\"])\n",
    "    \n",
    "    # weekday\n",
    "    df['weekday'] = df.date2.dt.weekday\n",
    "    df['is_weekend'] = df.date2.dt.weekday.isin([5,6])\n",
    "    df['is_holiday'] = df.date2.isin(holidays.date2)\n",
    "    df['is_holiday_weekday'] = df.is_holiday & (df.is_weekend == False)\n",
    "    df['is_holiday_weekend'] = df.is_holiday &  df.is_weekend\n",
    "\n",
    "    # bool to int (maybe no meaning)\n",
    "    df.is_weekend = np.where(df.is_weekend, 1, 0)\n",
    "    df.is_holiday = np.where(df.is_holiday, 1, 0)\n",
    "    df.is_holiday_weekday = np.where(df.is_holiday_weekday, 1, 0)\n",
    "    df.is_holiday_weekend = np.where(df.is_holiday_weekend, 1, 0)\n",
    "    \n",
    "    # day, month, year\n",
    "    df['day'] = df.date2.dt.day\n",
    "    df['month'] = df.date2.dt.month\n",
    "    df['year'] = df.date2.dt.year\n",
    "    \n",
    "    # around BlackFriday\n",
    "    df = pd.merge(df, holiday_names, on='date2', how = 'left')\n",
    "    df.loc[df.holiday_name.isnull(), \"holiday_name\"] = \"\"\n",
    "\n",
    "    around_BlackFriday = [\"BlackFridayM3\", \"BlackFridayM2\", \"ThanksgivingDay\", \"BlackFriday\",\n",
    "                          \"BlackFriday1\", \"BlackFriday2\", \"BlackFriday3\"]\n",
    "    df[\"around_BlackFriday\"] = np.where(df.holiday_name.isin(around_BlackFriday), \n",
    "                                        df.holiday_name, \"Else\")\n",
    "\n",
    "    return df\n",
    "\n",
    "# read dataframes\n",
    "key = pd.read_csv(\"../asset/key.csv\")\n",
    "wtr = pd.read_csv(\"../asset/weather.csv\")\n",
    "holidays = get_holidays(\"holidays.txt\")\n",
    "holiday_names = get_holiday_names(\"holiday_names.txt\")\n",
    "\n",
    "valid_store_items = store_item_nbrs\n",
    "\n",
    "# preprocess \n",
    "df_train = pd.read_csv(\"../asset/train.csv\")\n",
    "mask_train = [(sno_ino in valid_store_items) for sno_ino in zip(df_train['store_nbr'], df_train['item_nbr']) ]\n",
    "print(mask_train)\n",
    "df_train = df_train[mask_train].copy()\n",
    "preprocess(train_preprocess, True).to_pickle('model/train2.pkl')\n",
    "\n",
    "df_test =  pd.read_csv(\"../asset/test.csv\")\n",
    "mask_test = [(sno_ino in valid_store_items) for sno_ino in zip(df_test['store_nbr'], df_test['item_nbr']) ]\n",
    "df_test =  df_test[mask_test].copy()\n",
    "preprocess(df_test,  False).to_pickle('model/test2.pkl')"
   ]
  },
  {
   "cell_type": "code",
   "execution_count": 40,
   "metadata": {},
   "outputs": [],
   "source": [
    "li = [sno_ino for sno_ino in zip(df_train['store_nbr'], df_train['item_nbr'])]"
   ]
  },
  {
   "cell_type": "code",
   "execution_count": 62,
   "metadata": {},
   "outputs": [],
   "source": [
    "li_ = [sno_ino in tuple_list for sno_ino in li]"
   ]
  },
  {
   "cell_type": "code",
   "execution_count": 63,
   "metadata": {},
   "outputs": [
    {
     "data": {
      "text/plain": [
       "[False, False, False, False, False]"
      ]
     },
     "execution_count": 63,
     "metadata": {},
     "output_type": "execute_result"
    }
   ],
   "source": [
    "li_[:5]"
   ]
  },
  {
   "cell_type": "code",
   "execution_count": 44,
   "metadata": {},
   "outputs": [
    {
     "data": {
      "text/plain": [
       "236038"
      ]
     },
     "execution_count": 44,
     "metadata": {},
     "output_type": "execute_result"
    }
   ],
   "source": [
    "len(df_train)"
   ]
  },
  {
   "cell_type": "code",
   "execution_count": 52,
   "metadata": {},
   "outputs": [],
   "source": [
    "df_train.to_pickle('excluded_zero_units.pkl')"
   ]
  },
  {
   "cell_type": "code",
   "execution_count": 49,
   "metadata": {},
   "outputs": [],
   "source": [
    "from datetime import datetime"
   ]
  },
  {
   "cell_type": "code",
   "execution_count": 50,
   "metadata": {},
   "outputs": [],
   "source": [
    "def saveDataFrameToCsv(df, fileName, idx = False):\n",
    "    \"\"\"\n",
    "        넘겨준 df를 filename + 년월일시간분 의 format으로 이루어진 이름의 파일로 생성해준다.\n",
    "        index를 True로 넘겨주면 저장할 때 아규먼트로 index=True를 넣어주게 된다.\n",
    "    \"\"\"\n",
    "    fileName += \"_\" + datetime.now().strftime(\"%Y%m%d%H%M\") + \".csv\"\n",
    "    return df.to_csv(fileName, index = idx)"
   ]
  },
  {
   "cell_type": "code",
   "execution_count": 51,
   "metadata": {},
   "outputs": [],
   "source": [
    "saveDataFrameToCsv(df_train, \"excluded_zero_units\")"
   ]
  },
  {
   "cell_type": "code",
   "execution_count": 53,
   "metadata": {},
   "outputs": [],
   "source": [
    "train_preprocess = pickle.load(open(\"excluded_zero_units.pkl\", \"rb\"))"
   ]
  },
  {
   "cell_type": "code",
   "execution_count": 55,
   "metadata": {},
   "outputs": [
    {
     "data": {
      "text/html": [
       "<div>\n",
       "<style scoped>\n",
       "    .dataframe tbody tr th:only-of-type {\n",
       "        vertical-align: middle;\n",
       "    }\n",
       "\n",
       "    .dataframe tbody tr th {\n",
       "        vertical-align: top;\n",
       "    }\n",
       "\n",
       "    .dataframe thead th {\n",
       "        text-align: right;\n",
       "    }\n",
       "</style>\n",
       "<table border=\"1\" class=\"dataframe\">\n",
       "  <thead>\n",
       "    <tr style=\"text-align: right;\">\n",
       "      <th></th>\n",
       "      <th>date</th>\n",
       "      <th>store_nbr</th>\n",
       "      <th>item_nbr</th>\n",
       "      <th>units</th>\n",
       "    </tr>\n",
       "  </thead>\n",
       "  <tbody>\n",
       "    <tr>\n",
       "      <th>4617497</th>\n",
       "      <td>2014-10-31</td>\n",
       "      <td>45</td>\n",
       "      <td>9</td>\n",
       "      <td>10</td>\n",
       "    </tr>\n",
       "    <tr>\n",
       "      <th>4617510</th>\n",
       "      <td>2014-10-31</td>\n",
       "      <td>45</td>\n",
       "      <td>22</td>\n",
       "      <td>0</td>\n",
       "    </tr>\n",
       "    <tr>\n",
       "      <th>4617514</th>\n",
       "      <td>2014-10-31</td>\n",
       "      <td>45</td>\n",
       "      <td>26</td>\n",
       "      <td>1</td>\n",
       "    </tr>\n",
       "    <tr>\n",
       "      <th>4617522</th>\n",
       "      <td>2014-10-31</td>\n",
       "      <td>45</td>\n",
       "      <td>34</td>\n",
       "      <td>0</td>\n",
       "    </tr>\n",
       "    <tr>\n",
       "      <th>4617538</th>\n",
       "      <td>2014-10-31</td>\n",
       "      <td>45</td>\n",
       "      <td>50</td>\n",
       "      <td>0</td>\n",
       "    </tr>\n",
       "  </tbody>\n",
       "</table>\n",
       "</div>"
      ],
      "text/plain": [
       "               date  store_nbr  item_nbr  units\n",
       "4617497  2014-10-31         45         9     10\n",
       "4617510  2014-10-31         45        22      0\n",
       "4617514  2014-10-31         45        26      1\n",
       "4617522  2014-10-31         45        34      0\n",
       "4617538  2014-10-31         45        50      0"
      ]
     },
     "execution_count": 55,
     "metadata": {},
     "output_type": "execute_result"
    }
   ],
   "source": [
    "train_preprocess.tail()"
   ]
  },
  {
   "cell_type": "code",
   "execution_count": 56,
   "metadata": {},
   "outputs": [],
   "source": [
    "preprocess(train_preprocess, True).to_pickle('model/train2.pkl')"
   ]
  },
  {
   "cell_type": "code",
   "execution_count": 59,
   "metadata": {},
   "outputs": [],
   "source": [
    "train_data = pickle.load(open(\"model/train2.pkl\", \"rb\"))"
   ]
  },
  {
   "cell_type": "code",
   "execution_count": 60,
   "metadata": {},
   "outputs": [
    {
     "data": {
      "text/html": [
       "<div>\n",
       "<style scoped>\n",
       "    .dataframe tbody tr th:only-of-type {\n",
       "        vertical-align: middle;\n",
       "    }\n",
       "\n",
       "    .dataframe tbody tr th {\n",
       "        vertical-align: top;\n",
       "    }\n",
       "\n",
       "    .dataframe thead th {\n",
       "        text-align: right;\n",
       "    }\n",
       "</style>\n",
       "<table border=\"1\" class=\"dataframe\">\n",
       "  <thead>\n",
       "    <tr style=\"text-align: right;\">\n",
       "      <th></th>\n",
       "      <th>date</th>\n",
       "      <th>store_nbr</th>\n",
       "      <th>item_nbr</th>\n",
       "      <th>units</th>\n",
       "      <th>log1p</th>\n",
       "      <th>date2</th>\n",
       "      <th>station_nbr</th>\n",
       "      <th>preciptotal_flag</th>\n",
       "      <th>depart_flag</th>\n",
       "      <th>weekday</th>\n",
       "      <th>is_weekend</th>\n",
       "      <th>is_holiday</th>\n",
       "      <th>is_holiday_weekday</th>\n",
       "      <th>is_holiday_weekend</th>\n",
       "      <th>day</th>\n",
       "      <th>month</th>\n",
       "      <th>year</th>\n",
       "      <th>holiday_name</th>\n",
       "      <th>around_BlackFriday</th>\n",
       "    </tr>\n",
       "  </thead>\n",
       "  <tbody>\n",
       "    <tr>\n",
       "      <th>236033</th>\n",
       "      <td>2014-10-31</td>\n",
       "      <td>35</td>\n",
       "      <td>50</td>\n",
       "      <td>0</td>\n",
       "      <td>0.000000</td>\n",
       "      <td>2014-10-31</td>\n",
       "      <td>5</td>\n",
       "      <td>0.0</td>\n",
       "      <td>0.0</td>\n",
       "      <td>4</td>\n",
       "      <td>0</td>\n",
       "      <td>1</td>\n",
       "      <td>1</td>\n",
       "      <td>0</td>\n",
       "      <td>31</td>\n",
       "      <td>10</td>\n",
       "      <td>2014</td>\n",
       "      <td>Halloween</td>\n",
       "      <td>Else</td>\n",
       "    </tr>\n",
       "    <tr>\n",
       "      <th>236034</th>\n",
       "      <td>2014-10-31</td>\n",
       "      <td>35</td>\n",
       "      <td>63</td>\n",
       "      <td>0</td>\n",
       "      <td>0.000000</td>\n",
       "      <td>2014-10-31</td>\n",
       "      <td>5</td>\n",
       "      <td>0.0</td>\n",
       "      <td>0.0</td>\n",
       "      <td>4</td>\n",
       "      <td>0</td>\n",
       "      <td>1</td>\n",
       "      <td>1</td>\n",
       "      <td>0</td>\n",
       "      <td>31</td>\n",
       "      <td>10</td>\n",
       "      <td>2014</td>\n",
       "      <td>Halloween</td>\n",
       "      <td>Else</td>\n",
       "    </tr>\n",
       "    <tr>\n",
       "      <th>236035</th>\n",
       "      <td>2014-10-31</td>\n",
       "      <td>35</td>\n",
       "      <td>66</td>\n",
       "      <td>10</td>\n",
       "      <td>2.397895</td>\n",
       "      <td>2014-10-31</td>\n",
       "      <td>5</td>\n",
       "      <td>0.0</td>\n",
       "      <td>0.0</td>\n",
       "      <td>4</td>\n",
       "      <td>0</td>\n",
       "      <td>1</td>\n",
       "      <td>1</td>\n",
       "      <td>0</td>\n",
       "      <td>31</td>\n",
       "      <td>10</td>\n",
       "      <td>2014</td>\n",
       "      <td>Halloween</td>\n",
       "      <td>Else</td>\n",
       "    </tr>\n",
       "    <tr>\n",
       "      <th>236036</th>\n",
       "      <td>2014-10-31</td>\n",
       "      <td>35</td>\n",
       "      <td>93</td>\n",
       "      <td>0</td>\n",
       "      <td>0.000000</td>\n",
       "      <td>2014-10-31</td>\n",
       "      <td>5</td>\n",
       "      <td>0.0</td>\n",
       "      <td>0.0</td>\n",
       "      <td>4</td>\n",
       "      <td>0</td>\n",
       "      <td>1</td>\n",
       "      <td>1</td>\n",
       "      <td>0</td>\n",
       "      <td>31</td>\n",
       "      <td>10</td>\n",
       "      <td>2014</td>\n",
       "      <td>Halloween</td>\n",
       "      <td>Else</td>\n",
       "    </tr>\n",
       "    <tr>\n",
       "      <th>236037</th>\n",
       "      <td>2014-10-31</td>\n",
       "      <td>35</td>\n",
       "      <td>105</td>\n",
       "      <td>0</td>\n",
       "      <td>0.000000</td>\n",
       "      <td>2014-10-31</td>\n",
       "      <td>5</td>\n",
       "      <td>0.0</td>\n",
       "      <td>0.0</td>\n",
       "      <td>4</td>\n",
       "      <td>0</td>\n",
       "      <td>1</td>\n",
       "      <td>1</td>\n",
       "      <td>0</td>\n",
       "      <td>31</td>\n",
       "      <td>10</td>\n",
       "      <td>2014</td>\n",
       "      <td>Halloween</td>\n",
       "      <td>Else</td>\n",
       "    </tr>\n",
       "  </tbody>\n",
       "</table>\n",
       "</div>"
      ],
      "text/plain": [
       "              date  store_nbr  item_nbr  units     log1p      date2  \\\n",
       "236033  2014-10-31         35        50      0  0.000000 2014-10-31   \n",
       "236034  2014-10-31         35        63      0  0.000000 2014-10-31   \n",
       "236035  2014-10-31         35        66     10  2.397895 2014-10-31   \n",
       "236036  2014-10-31         35        93      0  0.000000 2014-10-31   \n",
       "236037  2014-10-31         35       105      0  0.000000 2014-10-31   \n",
       "\n",
       "        station_nbr  preciptotal_flag  depart_flag  weekday  is_weekend  \\\n",
       "236033            5               0.0          0.0        4           0   \n",
       "236034            5               0.0          0.0        4           0   \n",
       "236035            5               0.0          0.0        4           0   \n",
       "236036            5               0.0          0.0        4           0   \n",
       "236037            5               0.0          0.0        4           0   \n",
       "\n",
       "        is_holiday  is_holiday_weekday  is_holiday_weekend  day  month  year  \\\n",
       "236033           1                   1                   0   31     10  2014   \n",
       "236034           1                   1                   0   31     10  2014   \n",
       "236035           1                   1                   0   31     10  2014   \n",
       "236036           1                   1                   0   31     10  2014   \n",
       "236037           1                   1                   0   31     10  2014   \n",
       "\n",
       "       holiday_name around_BlackFriday  \n",
       "236033    Halloween               Else  \n",
       "236034    Halloween               Else  \n",
       "236035    Halloween               Else  \n",
       "236036    Halloween               Else  \n",
       "236037    Halloween               Else  "
      ]
     },
     "execution_count": 60,
     "metadata": {},
     "output_type": "execute_result"
    }
   ],
   "source": [
    "train_data.tail()"
   ]
  },
  {
   "cell_type": "code",
   "execution_count": 61,
   "metadata": {},
   "outputs": [],
   "source": [
    "train_data.to_pickle('preprocess_date.pkl')"
   ]
  },
  {
   "cell_type": "code",
   "execution_count": null,
   "metadata": {},
   "outputs": [],
   "source": []
  },
  {
   "cell_type": "code",
   "execution_count": null,
   "metadata": {},
   "outputs": [],
   "source": [
    "train_13 = pd.concat([train, station_13] , axis = 1 , join = 'inner' )"
   ]
  }
 ],
 "metadata": {
  "kernelspec": {
   "display_name": "Python 3",
   "language": "python",
   "name": "python3"
  },
  "language_info": {
   "codemirror_mode": {
    "name": "ipython",
    "version": 3
   },
   "file_extension": ".py",
   "mimetype": "text/x-python",
   "name": "python",
   "nbconvert_exporter": "python",
   "pygments_lexer": "ipython3",
   "version": "3.6.5"
  }
 },
 "nbformat": 4,
 "nbformat_minor": 2
}
